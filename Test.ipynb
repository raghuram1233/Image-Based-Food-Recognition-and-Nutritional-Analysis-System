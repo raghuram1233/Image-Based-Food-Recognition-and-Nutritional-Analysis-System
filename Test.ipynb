{
 "cells": [
  {
   "cell_type": "code",
   "execution_count": 2,
   "metadata": {},
   "outputs": [],
   "source": [
    "# Fruit Classification using Pre-trained CNN Model\n",
    "# This notebook classifies fruit images using a trained TensorFlow/Keras model\n",
    "\n",
    "# Import required libraries\n",
    "import tensorflow as tf\n",
    "import cv2              \n",
    "import numpy as np      \n",
    "\n",
    "# Define the fruit categories that the model can classify\n",
    "# These correspond to the output classes of the trained model\n",
    "categories = [\"Apple\",\"Banana\",\"Mango\",\"orange\",\"pineapple\"]"
   ]
  },
  {
   "cell_type": "code",
   "execution_count": 3,
   "metadata": {},
   "outputs": [],
   "source": [
    "# Load the pre-trained fruit classification model\n",
    "# The model was previously trained and saved as \"Fruits_model.h5\"\n",
    "# This file contains the model architecture, weights, and training configuration\n",
    "model = tf.keras.models.load_model(\"Fruits_model.h5\")#type: ignore"
   ]
  },
  {
   "cell_type": "code",
   "execution_count": 4,
   "metadata": {},
   "outputs": [
    {
     "name": "stdout",
     "output_type": "stream",
     "text": [
      "1/1 [==============================] - 3s 3s/step\n",
      "Accuracy: 99.78000521659851%\n",
      "Output: Apple\n"
     ]
    }
   ],
   "source": [
    "from tensorflow.keras.preprocessing import image#type: ignore\n",
    "import numpy as np\n",
    "test_img = \"imgs/apple.jpg\"  # Example test image path\n",
    "img = image.load_img(test_img, target_size = (128,128))\n",
    "img_array = image.img_to_array(img)\n",
    "img_array = np.array(img_array)/255.0\n",
    "\n",
    "predictions = model.predict(img_array[np.newaxis])#type: ignore\n",
    "\n",
    "# Displaying the output\n",
    "acc = np.max(predictions[0]) * 100\n",
    "print(f'Accuracy: {acc}%')\n",
    "result = categories[np.argmax(predictions[0], axis = -1)]\n",
    "print(f'Output: {result}')"
   ]
  }
 ],
 "metadata": {
  "kernelspec": {
   "display_name": "ML",
   "language": "python",
   "name": "python3"
  },
  "language_info": {
   "codemirror_mode": {
    "name": "ipython",
    "version": 3
   },
   "file_extension": ".py",
   "mimetype": "text/x-python",
   "name": "python",
   "nbconvert_exporter": "python",
   "pygments_lexer": "ipython3",
   "version": "3.9.21"
  }
 },
 "nbformat": 4,
 "nbformat_minor": 2
}
