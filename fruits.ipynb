{
 "cells": [
  {
   "cell_type": "code",
   "execution_count": 9,
   "metadata": {},
   "outputs": [],
   "source": [
    "import tensorflow as tf\n",
    "import cv2\n",
    "import numpy as np\n",
    "categories = [\"Apple\",\"Banana\",\"Grape\",\"Mango\",\"Strawberry\"]"
   ]
  },
  {
   "cell_type": "code",
   "execution_count": 10,
   "metadata": {},
   "outputs": [],
   "source": [
    "model = tf.keras.models.load_model(\"Fruits_models.h5\")"
   ]
  },
  {
   "cell_type": "code",
   "execution_count": 11,
   "metadata": {},
   "outputs": [],
   "source": [
    "def prepare(filepath):\n",
    "    IMG_SIZE = 150\n",
    "    img_array = cv2.imread(filepath,cv2.IMREAD_COLOR)\n",
    "    img_array = img_array / 255\n",
    "    resized_array = cv2.resize(img_array, (IMG_SIZE, IMG_SIZE))\n",
    "    return resized_array.reshape(-1, IMG_SIZE, IMG_SIZE, 3)"
   ]
  },
  {
   "cell_type": "code",
   "execution_count": 13,
   "metadata": {},
   "outputs": [
    {
     "name": "stdout",
     "output_type": "stream",
     "text": [
      "1/1 [==============================] - 0s 27ms/step\n",
      "[[0.856496   0.00295539 0.00654506 0.00148441 0.13251911]]\n",
      "Apple\n"
     ]
    }
   ],
   "source": [
    "import os\n",
    "\n",
    "File_Path = \"app22.jpg\"\n",
    "if not os.path.exists(File_Path):\n",
    "\traise FileNotFoundError(f\"Image file not found: {File_Path}\")\n",
    "\n",
    "img_arr = prepare(File_Path)\n",
    "if img_arr is None:\n",
    "\traise ValueError(\"Failed to process the image\")\n",
    "\n",
    "pred = model.predict(img_arr)\n",
    "print(pred)\n",
    "Fruit_type = categories[np.argmax(pred)]\n",
    "print(Fruit_type)"
   ]
  }
 ],
 "metadata": {
  "kernelspec": {
   "display_name": "ML",
   "language": "python",
   "name": "python3"
  },
  "language_info": {
   "codemirror_mode": {
    "name": "ipython",
    "version": 3
   },
   "file_extension": ".py",
   "mimetype": "text/x-python",
   "name": "python",
   "nbconvert_exporter": "python",
   "pygments_lexer": "ipython3",
   "version": "3.9.21"
  }
 },
 "nbformat": 4,
 "nbformat_minor": 2
}
