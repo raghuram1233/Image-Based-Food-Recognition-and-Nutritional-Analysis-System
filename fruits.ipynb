{
 "cells": [
  {
   "cell_type": "code",
   "execution_count": 1,
   "metadata": {},
   "outputs": [],
   "source": [
    "# Fruit Classification using Pre-trained CNN Model\n",
    "# This notebook classifies fruit images using a trained TensorFlow/Keras model\n",
    "\n",
    "# Import required libraries\n",
    "import tensorflow as tf\n",
    "import cv2              \n",
    "import numpy as np      \n",
    "\n",
    "# Define the fruit categories that the model can classify\n",
    "# These correspond to the output classes of the trained model\n",
    "categories = [\"Apple\",\"Banana\",\"Grape\",\"Mango\",\"Strawberry\"]"
   ]
  },
  {
   "cell_type": "code",
   "execution_count": 2,
   "metadata": {},
   "outputs": [],
   "source": [
    "# Load the pre-trained fruit classification model\n",
    "# The model was previously trained and saved as \"Fruits_models.h5\"\n",
    "# This file contains the model architecture, weights, and training configuration\n",
    "model = tf.keras.models.load_model(\"Fruits_models.h5\")"
   ]
  },
  {
   "cell_type": "code",
   "execution_count": 3,
   "metadata": {},
   "outputs": [],
   "source": [
    "def prepare(filepath):\n",
    "    \"\"\"\n",
    "    Preprocesses an image for fruit classification prediction\n",
    "    \n",
    "    Args:\n",
    "        filepath (str): Path to the image file to be processed\n",
    "    \n",
    "    Returns:\n",
    "        numpy.ndarray: Processed image array ready for model prediction\n",
    "                      Shape: (1, 150, 150, 3) - batch of 1 RGB image\n",
    "    \"\"\"\n",
    "    IMG_SIZE = 150  # Target image size that the model expects (150x150 pixels)\n",
    "    \n",
    "    # Load the image in color format (BGR by default in OpenCV)\n",
    "    img_array = cv2.imread(filepath, cv2.IMREAD_COLOR)\n",
    "    \n",
    "    # Normalize pixel values to range [0, 1] by dividing by 255\n",
    "    # This matches the preprocessing used during model training\n",
    "    img_array = img_array / 255\n",
    "    \n",
    "    # Resize the image to the required input size for the model\n",
    "    resized_array = cv2.resize(img_array, (IMG_SIZE, IMG_SIZE))\n",
    "    \n",
    "    # Reshape the array to add a batch dimension\n",
    "    # From (150, 150, 3) to (1, 150, 150, 3) for model input\n",
    "    return resized_array.reshape(-1, IMG_SIZE, IMG_SIZE, 3)"
   ]
  },
  {
   "cell_type": "code",
   "execution_count": 5,
   "metadata": {},
   "outputs": [
    {
     "name": "stdout",
     "output_type": "stream",
     "text": [
      "1/1 [==============================] - 4s 4s/step\n",
      "Prediction probabilities: [[0.856496   0.00295539 0.00654506 0.00148441 0.13251911]]\n",
      "Predicted fruit type: Apple\n",
      "Confidence: 0.8565 (85.65%)\n"
     ]
    }
   ],
   "source": [
    "import os\n",
    "\n",
    "# Specify the path to the image file to be classified\n",
    "File_Path = \"imgs/apple.jpg\"\n",
    "\n",
    "# Check if the image file exists before processing\n",
    "if not os.path.exists(File_Path):\n",
    "\traise FileNotFoundError(f\"Image file not found: {File_Path}\")\n",
    "\n",
    "# Preprocess the image using our prepare function\n",
    "# This converts the image to the format expected by the model\n",
    "img_arr = prepare(File_Path)\n",
    "\n",
    "# Additional validation to ensure image preprocessing was successful\n",
    "if img_arr is None:\n",
    "\traise ValueError(\"Failed to process the image\")\n",
    "\n",
    "# Make prediction using the loaded model\n",
    "# The model returns probability scores for each fruit category\n",
    "pred = model.predict(img_arr)\n",
    "print(\"Prediction probabilities:\", pred)\n",
    "\n",
    "# Find the category with the highest probability\n",
    "# np.argmax returns the index of the maximum value\n",
    "predicted_index = np.argmax(pred)\n",
    "Fruit_type = categories[predicted_index]\n",
    "\n",
    "print(f\"Predicted fruit type: {Fruit_type}\")\n",
    "print(f\"Confidence: {pred[0][predicted_index]:.4f} ({pred[0][predicted_index]*100:.2f}%)\")"
   ]
  }
 ],
 "metadata": {
  "kernelspec": {
   "display_name": "ML",
   "language": "python",
   "name": "python3"
  },
  "language_info": {
   "codemirror_mode": {
    "name": "ipython",
    "version": 3
   },
   "file_extension": ".py",
   "mimetype": "text/x-python",
   "name": "python",
   "nbconvert_exporter": "python",
   "pygments_lexer": "ipython3",
   "version": "3.9.21"
  }
 },
 "nbformat": 4,
 "nbformat_minor": 2
}
